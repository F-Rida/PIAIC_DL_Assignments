{
  "nbformat": 4,
  "nbformat_minor": 0,
  "metadata": {
    "kernelspec": {
      "display_name": "Python 3",
      "language": "python",
      "name": "python3"
    },
    "language_info": {
      "codemirror_mode": {
        "name": "ipython",
        "version": 3
      },
      "file_extension": ".py",
      "mimetype": "text/x-python",
      "name": "python",
      "nbconvert_exporter": "python",
      "pygments_lexer": "ipython3",
      "version": "3.7.3"
    },
    "colab": {
      "name": "Concrete Strength Assignment.ipynb",
      "provenance": []
    }
  },
  "cells": [
    {
      "cell_type": "markdown",
      "metadata": {
        "id": "OCiy5Phi93aR"
      },
      "source": [
        "# Assignment: Compresive Strength Concrete Problem\n",
        "\n",
        "\n",
        "### Abstract: \n",
        "\n",
        "Concrete is the most important material in civil engineering. The concrete compressive strength (concrete strength to bear the load) is a highly nonlinear function of age and ingredients.  <br><br>\n",
        "\n",
        "<table border=\"1\"  cellpadding=\"6\" bordercolor=\"red\">\n",
        "\t<tbody>\n",
        "        <tr>\n",
        "\t\t<td bgcolor=\"#DDEEFF\"><p class=\"normal\"><b>Data Set Characteristics:&nbsp;&nbsp;</b></p></td>\n",
        "\t\t<td><p class=\"normal\">Multivariate</p></td>\n",
        "\t\t<td bgcolor=\"#DDEEFF\"><p class=\"normal\"><b>Number of Instances:</b></p></td>\n",
        "\t\t<td><p class=\"normal\">1030</p></td>\n",
        "\t\t<td bgcolor=\"#DDEEFF\"><p class=\"normal\"><b>Area:</b></p></td>\n",
        "\t\t<td><p class=\"normal\">Physical</p></td>\n",
        "        </tr>\n",
        "     </tbody>\n",
        "    </table>\n",
        "<table border=\"1\" cellpadding=\"6\">\n",
        "    <tbody>\n",
        "        <tr>\n",
        "            <td bgcolor=\"#DDEEFF\"><p class=\"normal\"><b>Attribute Characteristics:</b></p></td>\n",
        "            <td><p class=\"normal\">Real</p></td>\n",
        "            <td bgcolor=\"#DDEEFF\"><p class=\"normal\"><b>Number of Attributes:</b></p></td>\n",
        "            <td><p class=\"normal\">9</p></td>\n",
        "            <td bgcolor=\"#DDEEFF\"><p class=\"normal\"><b>Date Donated</b></p></td>\n",
        "            <td><p class=\"normal\">2007-08-03</p></td>\n",
        "        </tr>\n",
        "     </tbody>\n",
        "    </table>\n",
        "<table border=\"1\" cellpadding=\"6\">\t\n",
        "    <tbody>\n",
        "    <tr>\n",
        "\t\t<td bgcolor=\"#DDEEFF\"><p class=\"normal\"><b>Associated Tasks:</b></p></td>\n",
        "\t\t<td><p class=\"normal\">Regression</p></td>\n",
        "\t\t<td bgcolor=\"#DDEEFF\"><p class=\"normal\"><b>Missing Values?</b></p></td>\n",
        "\t\t<td><p class=\"normal\">N/A</p></td>\n",
        "\t\t<td bgcolor=\"#DDEEFF\"><p class=\"normal\"><b>Number of Web Hits:</b></p></td>\n",
        "\t\t<td><p class=\"normal\">231464</p></td>\n",
        "\t</tr>\n",
        "    </tbody>\n",
        "    </table>"
      ]
    },
    {
      "cell_type": "markdown",
      "metadata": {
        "id": "a2PeQ_t193am"
      },
      "source": [
        "###  Description:\n",
        "| Features Name | Data Type | Measurement | Description |\n",
        "| -- | -- | -- | -- |\n",
        "Cement (component 1) | quantitative | kg in a m3 mixture | Input Variable\n",
        "Blast Furnace Slag (component 2) | quantitative | kg in a m3 mixture | Input Variable\n",
        "Fly Ash (component 3) | quantitative | kg in a m3 mixture | Input Variable\n",
        "Water (component 4) | quantitative | kg in a m3 mixture | Input Variable\n",
        "Superplasticizer (component 5) | quantitative | kg in a m3 mixture | Input Variable\n",
        "Coarse Aggregate (component 6) | quantitative | kg in a m3 mixture | Input Variable\n",
        "Fine Aggregate (component 7) | quantitative | kg in a m3 mixture | Input Variable\n",
        "Age | quantitative | Day (1~365) | Input Variable\n",
        "Concrete compressive strength | quantitative | MPa | Output Variable\n",
        "\n",
        "### WORKFLOW :\n",
        "- Load Data\n",
        "- Check Missing Values ( If Exist ; Fill each record with mean of its feature )\n",
        "- Standardized the Input Variables. **Hint**: Centeralized the data\n",
        "- Split into 50% Training(Samples,Labels) , 30% Test(Samples,Labels) and 20% Validation Data(Samples,Labels).\n",
        "- Model : input Layer (No. of features ), 3 hidden layers including 10,8,6 unit & Output Layer with activation function relu/tanh (check by experiment).\n",
        "- Compilation Step (Note : Its a Regression problem , select loss , metrics according to it)\n",
        "- Train the Model with Epochs (100) and validate it\n",
        "- If the model gets overfit tune your model by changing the units , No. of layers , activation function , epochs , add dropout layer or add Regularizer according to the need .\n",
        "- Evaluation Step\n",
        "- Prediction\n"
      ]
    },
    {
      "cell_type": "markdown",
      "metadata": {
        "id": "g81DicrP93aq"
      },
      "source": [
        "# Load Data:\n",
        "[Click Here to Download DataSet](https://github.com/ramsha275/ML_Datasets/blob/main/compresive_strength_concrete.csv)"
      ]
    },
    {
      "cell_type": "code",
      "metadata": {
        "id": "PXUr0r6c93ar"
      },
      "source": [
        "# importing libraries\n",
        "import numpy as np\n",
        "import pandas as pd\n",
        "from tensorflow.keras import layers as L\n",
        "from tensorflow.keras import models as M\n",
        "from keras.utils.np_utils import to_categorical\n",
        "import matplotlib.pyplot as plt\n",
        "import tensorflow as tf"
      ],
      "execution_count": 16,
      "outputs": []
    },
    {
      "cell_type": "code",
      "metadata": {
        "colab": {
          "resources": {
            "http://localhost:8080/nbextensions/google.colab/files.js": {
              "data": "Ly8gQ29weXJpZ2h0IDIwMTcgR29vZ2xlIExMQwovLwovLyBMaWNlbnNlZCB1bmRlciB0aGUgQXBhY2hlIExpY2Vuc2UsIFZlcnNpb24gMi4wICh0aGUgIkxpY2Vuc2UiKTsKLy8geW91IG1heSBub3QgdXNlIHRoaXMgZmlsZSBleGNlcHQgaW4gY29tcGxpYW5jZSB3aXRoIHRoZSBMaWNlbnNlLgovLyBZb3UgbWF5IG9idGFpbiBhIGNvcHkgb2YgdGhlIExpY2Vuc2UgYXQKLy8KLy8gICAgICBodHRwOi8vd3d3LmFwYWNoZS5vcmcvbGljZW5zZXMvTElDRU5TRS0yLjAKLy8KLy8gVW5sZXNzIHJlcXVpcmVkIGJ5IGFwcGxpY2FibGUgbGF3IG9yIGFncmVlZCB0byBpbiB3cml0aW5nLCBzb2Z0d2FyZQovLyBkaXN0cmlidXRlZCB1bmRlciB0aGUgTGljZW5zZSBpcyBkaXN0cmlidXRlZCBvbiBhbiAiQVMgSVMiIEJBU0lTLAovLyBXSVRIT1VUIFdBUlJBTlRJRVMgT1IgQ09ORElUSU9OUyBPRiBBTlkgS0lORCwgZWl0aGVyIGV4cHJlc3Mgb3IgaW1wbGllZC4KLy8gU2VlIHRoZSBMaWNlbnNlIGZvciB0aGUgc3BlY2lmaWMgbGFuZ3VhZ2UgZ292ZXJuaW5nIHBlcm1pc3Npb25zIGFuZAovLyBsaW1pdGF0aW9ucyB1bmRlciB0aGUgTGljZW5zZS4KCi8qKgogKiBAZmlsZW92ZXJ2aWV3IEhlbHBlcnMgZm9yIGdvb2dsZS5jb2xhYiBQeXRob24gbW9kdWxlLgogKi8KKGZ1bmN0aW9uKHNjb3BlKSB7CmZ1bmN0aW9uIHNwYW4odGV4dCwgc3R5bGVBdHRyaWJ1dGVzID0ge30pIHsKICBjb25zdCBlbGVtZW50ID0gZG9jdW1lbnQuY3JlYXRlRWxlbWVudCgnc3BhbicpOwogIGVsZW1lbnQudGV4dENvbnRlbnQgPSB0ZXh0OwogIGZvciAoY29uc3Qga2V5IG9mIE9iamVjdC5rZXlzKHN0eWxlQXR0cmlidXRlcykpIHsKICAgIGVsZW1lbnQuc3R5bGVba2V5XSA9IHN0eWxlQXR0cmlidXRlc1trZXldOwogIH0KICByZXR1cm4gZWxlbWVudDsKfQoKLy8gTWF4IG51bWJlciBvZiBieXRlcyB3aGljaCB3aWxsIGJlIHVwbG9hZGVkIGF0IGEgdGltZS4KY29uc3QgTUFYX1BBWUxPQURfU0laRSA9IDEwMCAqIDEwMjQ7CgpmdW5jdGlvbiBfdXBsb2FkRmlsZXMoaW5wdXRJZCwgb3V0cHV0SWQpIHsKICBjb25zdCBzdGVwcyA9IHVwbG9hZEZpbGVzU3RlcChpbnB1dElkLCBvdXRwdXRJZCk7CiAgY29uc3Qgb3V0cHV0RWxlbWVudCA9IGRvY3VtZW50LmdldEVsZW1lbnRCeUlkKG91dHB1dElkKTsKICAvLyBDYWNoZSBzdGVwcyBvbiB0aGUgb3V0cHV0RWxlbWVudCB0byBtYWtlIGl0IGF2YWlsYWJsZSBmb3IgdGhlIG5leHQgY2FsbAogIC8vIHRvIHVwbG9hZEZpbGVzQ29udGludWUgZnJvbSBQeXRob24uCiAgb3V0cHV0RWxlbWVudC5zdGVwcyA9IHN0ZXBzOwoKICByZXR1cm4gX3VwbG9hZEZpbGVzQ29udGludWUob3V0cHV0SWQpOwp9CgovLyBUaGlzIGlzIHJvdWdobHkgYW4gYXN5bmMgZ2VuZXJhdG9yIChub3Qgc3VwcG9ydGVkIGluIHRoZSBicm93c2VyIHlldCksCi8vIHdoZXJlIHRoZXJlIGFyZSBtdWx0aXBsZSBhc3luY2hyb25vdXMgc3RlcHMgYW5kIHRoZSBQeXRob24gc2lkZSBpcyBnb2luZwovLyB0byBwb2xsIGZvciBjb21wbGV0aW9uIG9mIGVhY2ggc3RlcC4KLy8gVGhpcyB1c2VzIGEgUHJvbWlzZSB0byBibG9jayB0aGUgcHl0aG9uIHNpZGUgb24gY29tcGxldGlvbiBvZiBlYWNoIHN0ZXAsCi8vIHRoZW4gcGFzc2VzIHRoZSByZXN1bHQgb2YgdGhlIHByZXZpb3VzIHN0ZXAgYXMgdGhlIGlucHV0IHRvIHRoZSBuZXh0IHN0ZXAuCmZ1bmN0aW9uIF91cGxvYWRGaWxlc0NvbnRpbnVlKG91dHB1dElkKSB7CiAgY29uc3Qgb3V0cHV0RWxlbWVudCA9IGRvY3VtZW50LmdldEVsZW1lbnRCeUlkKG91dHB1dElkKTsKICBjb25zdCBzdGVwcyA9IG91dHB1dEVsZW1lbnQuc3RlcHM7CgogIGNvbnN0IG5leHQgPSBzdGVwcy5uZXh0KG91dHB1dEVsZW1lbnQubGFzdFByb21pc2VWYWx1ZSk7CiAgcmV0dXJuIFByb21pc2UucmVzb2x2ZShuZXh0LnZhbHVlLnByb21pc2UpLnRoZW4oKHZhbHVlKSA9PiB7CiAgICAvLyBDYWNoZSB0aGUgbGFzdCBwcm9taXNlIHZhbHVlIHRvIG1ha2UgaXQgYXZhaWxhYmxlIHRvIHRoZSBuZXh0CiAgICAvLyBzdGVwIG9mIHRoZSBnZW5lcmF0b3IuCiAgICBvdXRwdXRFbGVtZW50Lmxhc3RQcm9taXNlVmFsdWUgPSB2YWx1ZTsKICAgIHJldHVybiBuZXh0LnZhbHVlLnJlc3BvbnNlOwogIH0pOwp9CgovKioKICogR2VuZXJhdG9yIGZ1bmN0aW9uIHdoaWNoIGlzIGNhbGxlZCBiZXR3ZWVuIGVhY2ggYXN5bmMgc3RlcCBvZiB0aGUgdXBsb2FkCiAqIHByb2Nlc3MuCiAqIEBwYXJhbSB7c3RyaW5nfSBpbnB1dElkIEVsZW1lbnQgSUQgb2YgdGhlIGlucHV0IGZpbGUgcGlja2VyIGVsZW1lbnQuCiAqIEBwYXJhbSB7c3RyaW5nfSBvdXRwdXRJZCBFbGVtZW50IElEIG9mIHRoZSBvdXRwdXQgZGlzcGxheS4KICogQHJldHVybiB7IUl0ZXJhYmxlPCFPYmplY3Q+fSBJdGVyYWJsZSBvZiBuZXh0IHN0ZXBzLgogKi8KZnVuY3Rpb24qIHVwbG9hZEZpbGVzU3RlcChpbnB1dElkLCBvdXRwdXRJZCkgewogIGNvbnN0IGlucHV0RWxlbWVudCA9IGRvY3VtZW50LmdldEVsZW1lbnRCeUlkKGlucHV0SWQpOwogIGlucHV0RWxlbWVudC5kaXNhYmxlZCA9IGZhbHNlOwoKICBjb25zdCBvdXRwdXRFbGVtZW50ID0gZG9jdW1lbnQuZ2V0RWxlbWVudEJ5SWQob3V0cHV0SWQpOwogIG91dHB1dEVsZW1lbnQuaW5uZXJIVE1MID0gJyc7CgogIGNvbnN0IHBpY2tlZFByb21pc2UgPSBuZXcgUHJvbWlzZSgocmVzb2x2ZSkgPT4gewogICAgaW5wdXRFbGVtZW50LmFkZEV2ZW50TGlzdGVuZXIoJ2NoYW5nZScsIChlKSA9PiB7CiAgICAgIHJlc29sdmUoZS50YXJnZXQuZmlsZXMpOwogICAgfSk7CiAgfSk7CgogIGNvbnN0IGNhbmNlbCA9IGRvY3VtZW50LmNyZWF0ZUVsZW1lbnQoJ2J1dHRvbicpOwogIGlucHV0RWxlbWVudC5wYXJlbnRFbGVtZW50LmFwcGVuZENoaWxkKGNhbmNlbCk7CiAgY2FuY2VsLnRleHRDb250ZW50ID0gJ0NhbmNlbCB1cGxvYWQnOwogIGNvbnN0IGNhbmNlbFByb21pc2UgPSBuZXcgUHJvbWlzZSgocmVzb2x2ZSkgPT4gewogICAgY2FuY2VsLm9uY2xpY2sgPSAoKSA9PiB7CiAgICAgIHJlc29sdmUobnVsbCk7CiAgICB9OwogIH0pOwoKICAvLyBXYWl0IGZvciB0aGUgdXNlciB0byBwaWNrIHRoZSBmaWxlcy4KICBjb25zdCBmaWxlcyA9IHlpZWxkIHsKICAgIHByb21pc2U6IFByb21pc2UucmFjZShbcGlja2VkUHJvbWlzZSwgY2FuY2VsUHJvbWlzZV0pLAogICAgcmVzcG9uc2U6IHsKICAgICAgYWN0aW9uOiAnc3RhcnRpbmcnLAogICAgfQogIH07CgogIGNhbmNlbC5yZW1vdmUoKTsKCiAgLy8gRGlzYWJsZSB0aGUgaW5wdXQgZWxlbWVudCBzaW5jZSBmdXJ0aGVyIHBpY2tzIGFyZSBub3QgYWxsb3dlZC4KICBpbnB1dEVsZW1lbnQuZGlzYWJsZWQgPSB0cnVlOwoKICBpZiAoIWZpbGVzKSB7CiAgICByZXR1cm4gewogICAgICByZXNwb25zZTogewogICAgICAgIGFjdGlvbjogJ2NvbXBsZXRlJywKICAgICAgfQogICAgfTsKICB9CgogIGZvciAoY29uc3QgZmlsZSBvZiBmaWxlcykgewogICAgY29uc3QgbGkgPSBkb2N1bWVudC5jcmVhdGVFbGVtZW50KCdsaScpOwogICAgbGkuYXBwZW5kKHNwYW4oZmlsZS5uYW1lLCB7Zm9udFdlaWdodDogJ2JvbGQnfSkpOwogICAgbGkuYXBwZW5kKHNwYW4oCiAgICAgICAgYCgke2ZpbGUudHlwZSB8fCAnbi9hJ30pIC0gJHtmaWxlLnNpemV9IGJ5dGVzLCBgICsKICAgICAgICBgbGFzdCBtb2RpZmllZDogJHsKICAgICAgICAgICAgZmlsZS5sYXN0TW9kaWZpZWREYXRlID8gZmlsZS5sYXN0TW9kaWZpZWREYXRlLnRvTG9jYWxlRGF0ZVN0cmluZygpIDoKICAgICAgICAgICAgICAgICAgICAgICAgICAgICAgICAgICAgJ24vYSd9IC0gYCkpOwogICAgY29uc3QgcGVyY2VudCA9IHNwYW4oJzAlIGRvbmUnKTsKICAgIGxpLmFwcGVuZENoaWxkKHBlcmNlbnQpOwoKICAgIG91dHB1dEVsZW1lbnQuYXBwZW5kQ2hpbGQobGkpOwoKICAgIGNvbnN0IGZpbGVEYXRhUHJvbWlzZSA9IG5ldyBQcm9taXNlKChyZXNvbHZlKSA9PiB7CiAgICAgIGNvbnN0IHJlYWRlciA9IG5ldyBGaWxlUmVhZGVyKCk7CiAgICAgIHJlYWRlci5vbmxvYWQgPSAoZSkgPT4gewogICAgICAgIHJlc29sdmUoZS50YXJnZXQucmVzdWx0KTsKICAgICAgfTsKICAgICAgcmVhZGVyLnJlYWRBc0FycmF5QnVmZmVyKGZpbGUpOwogICAgfSk7CiAgICAvLyBXYWl0IGZvciB0aGUgZGF0YSB0byBiZSByZWFkeS4KICAgIGxldCBmaWxlRGF0YSA9IHlpZWxkIHsKICAgICAgcHJvbWlzZTogZmlsZURhdGFQcm9taXNlLAogICAgICByZXNwb25zZTogewogICAgICAgIGFjdGlvbjogJ2NvbnRpbnVlJywKICAgICAgfQogICAgfTsKCiAgICAvLyBVc2UgYSBjaHVua2VkIHNlbmRpbmcgdG8gYXZvaWQgbWVzc2FnZSBzaXplIGxpbWl0cy4gU2VlIGIvNjIxMTU2NjAuCiAgICBsZXQgcG9zaXRpb24gPSAwOwogICAgd2hpbGUgKHBvc2l0aW9uIDwgZmlsZURhdGEuYnl0ZUxlbmd0aCkgewogICAgICBjb25zdCBsZW5ndGggPSBNYXRoLm1pbihmaWxlRGF0YS5ieXRlTGVuZ3RoIC0gcG9zaXRpb24sIE1BWF9QQVlMT0FEX1NJWkUpOwogICAgICBjb25zdCBjaHVuayA9IG5ldyBVaW50OEFycmF5KGZpbGVEYXRhLCBwb3NpdGlvbiwgbGVuZ3RoKTsKICAgICAgcG9zaXRpb24gKz0gbGVuZ3RoOwoKICAgICAgY29uc3QgYmFzZTY0ID0gYnRvYShTdHJpbmcuZnJvbUNoYXJDb2RlLmFwcGx5KG51bGwsIGNodW5rKSk7CiAgICAgIHlpZWxkIHsKICAgICAgICByZXNwb25zZTogewogICAgICAgICAgYWN0aW9uOiAnYXBwZW5kJywKICAgICAgICAgIGZpbGU6IGZpbGUubmFtZSwKICAgICAgICAgIGRhdGE6IGJhc2U2NCwKICAgICAgICB9LAogICAgICB9OwogICAgICBwZXJjZW50LnRleHRDb250ZW50ID0KICAgICAgICAgIGAke01hdGgucm91bmQoKHBvc2l0aW9uIC8gZmlsZURhdGEuYnl0ZUxlbmd0aCkgKiAxMDApfSUgZG9uZWA7CiAgICB9CiAgfQoKICAvLyBBbGwgZG9uZS4KICB5aWVsZCB7CiAgICByZXNwb25zZTogewogICAgICBhY3Rpb246ICdjb21wbGV0ZScsCiAgICB9CiAgfTsKfQoKc2NvcGUuZ29vZ2xlID0gc2NvcGUuZ29vZ2xlIHx8IHt9OwpzY29wZS5nb29nbGUuY29sYWIgPSBzY29wZS5nb29nbGUuY29sYWIgfHwge307CnNjb3BlLmdvb2dsZS5jb2xhYi5fZmlsZXMgPSB7CiAgX3VwbG9hZEZpbGVzLAogIF91cGxvYWRGaWxlc0NvbnRpbnVlLAp9Owp9KShzZWxmKTsK",
              "ok": true,
              "headers": [
                [
                  "content-type",
                  "application/javascript"
                ]
              ],
              "status": 200,
              "status_text": ""
            }
          },
          "base_uri": "https://localhost:8080/",
          "height": 73
        },
        "id": "7LZ1dgLr99gS",
        "outputId": "77375ca6-8f76-49c4-8adb-ce0164119548"
      },
      "source": [
        "# importing files\n",
        "from google.colab import files\n",
        "uploaded = files.upload()\n"
      ],
      "execution_count": 2,
      "outputs": [
        {
          "output_type": "display_data",
          "data": {
            "text/html": [
              "\n",
              "     <input type=\"file\" id=\"files-cf89d8ba-d4ed-4ed4-be8e-62b97d6dea03\" name=\"files[]\" multiple disabled\n",
              "        style=\"border:none\" />\n",
              "     <output id=\"result-cf89d8ba-d4ed-4ed4-be8e-62b97d6dea03\">\n",
              "      Upload widget is only available when the cell has been executed in the\n",
              "      current browser session. Please rerun this cell to enable.\n",
              "      </output>\n",
              "      <script src=\"/nbextensions/google.colab/files.js\"></script> "
            ],
            "text/plain": [
              "<IPython.core.display.HTML object>"
            ]
          },
          "metadata": {
            "tags": []
          }
        },
        {
          "output_type": "stream",
          "text": [
            "Saving compresive_strength_concrete.csv to compresive_strength_concrete.csv\n"
          ],
          "name": "stdout"
        }
      ]
    },
    {
      "cell_type": "code",
      "metadata": {
        "id": "Qjk-w_10-MRs"
      },
      "source": [
        "# loading dataset\n",
        "con_data = pd.read_csv('compresive_strength_concrete.csv')"
      ],
      "execution_count": 3,
      "outputs": []
    },
    {
      "cell_type": "code",
      "metadata": {
        "colab": {
          "base_uri": "https://localhost:8080/",
          "height": 247
        },
        "id": "I3AII1Dj-qmC",
        "outputId": "ffda721c-c1f7-4f89-92a2-e74655b63da5"
      },
      "source": [
        "con_data.head()"
      ],
      "execution_count": 4,
      "outputs": [
        {
          "output_type": "execute_result",
          "data": {
            "text/html": [
              "<div>\n",
              "<style scoped>\n",
              "    .dataframe tbody tr th:only-of-type {\n",
              "        vertical-align: middle;\n",
              "    }\n",
              "\n",
              "    .dataframe tbody tr th {\n",
              "        vertical-align: top;\n",
              "    }\n",
              "\n",
              "    .dataframe thead th {\n",
              "        text-align: right;\n",
              "    }\n",
              "</style>\n",
              "<table border=\"1\" class=\"dataframe\">\n",
              "  <thead>\n",
              "    <tr style=\"text-align: right;\">\n",
              "      <th></th>\n",
              "      <th>Cement (component 1)(kg in a m^3 mixture)</th>\n",
              "      <th>Blast Furnace Slag (component 2)(kg in a m^3 mixture)</th>\n",
              "      <th>Fly Ash (component 3)(kg in a m^3 mixture)</th>\n",
              "      <th>Water  (component 4)(kg in a m^3 mixture)</th>\n",
              "      <th>Superplasticizer (component 5)(kg in a m^3 mixture)</th>\n",
              "      <th>Coarse Aggregate  (component 6)(kg in a m^3 mixture)</th>\n",
              "      <th>Fine Aggregate (component 7)(kg in a m^3 mixture)</th>\n",
              "      <th>Age (day)</th>\n",
              "      <th>Concrete compressive strength(MPa, megapascals)</th>\n",
              "    </tr>\n",
              "  </thead>\n",
              "  <tbody>\n",
              "    <tr>\n",
              "      <th>0</th>\n",
              "      <td>540.0</td>\n",
              "      <td>0.0</td>\n",
              "      <td>0.0</td>\n",
              "      <td>162.0</td>\n",
              "      <td>2.5</td>\n",
              "      <td>1040.0</td>\n",
              "      <td>676.0</td>\n",
              "      <td>28</td>\n",
              "      <td>79.99</td>\n",
              "    </tr>\n",
              "    <tr>\n",
              "      <th>1</th>\n",
              "      <td>540.0</td>\n",
              "      <td>0.0</td>\n",
              "      <td>0.0</td>\n",
              "      <td>162.0</td>\n",
              "      <td>2.5</td>\n",
              "      <td>1055.0</td>\n",
              "      <td>676.0</td>\n",
              "      <td>28</td>\n",
              "      <td>61.89</td>\n",
              "    </tr>\n",
              "    <tr>\n",
              "      <th>2</th>\n",
              "      <td>332.5</td>\n",
              "      <td>142.5</td>\n",
              "      <td>0.0</td>\n",
              "      <td>228.0</td>\n",
              "      <td>0.0</td>\n",
              "      <td>932.0</td>\n",
              "      <td>594.0</td>\n",
              "      <td>270</td>\n",
              "      <td>40.27</td>\n",
              "    </tr>\n",
              "    <tr>\n",
              "      <th>3</th>\n",
              "      <td>332.5</td>\n",
              "      <td>142.5</td>\n",
              "      <td>0.0</td>\n",
              "      <td>228.0</td>\n",
              "      <td>0.0</td>\n",
              "      <td>932.0</td>\n",
              "      <td>594.0</td>\n",
              "      <td>365</td>\n",
              "      <td>41.05</td>\n",
              "    </tr>\n",
              "    <tr>\n",
              "      <th>4</th>\n",
              "      <td>198.6</td>\n",
              "      <td>132.4</td>\n",
              "      <td>0.0</td>\n",
              "      <td>192.0</td>\n",
              "      <td>0.0</td>\n",
              "      <td>978.4</td>\n",
              "      <td>825.5</td>\n",
              "      <td>360</td>\n",
              "      <td>44.30</td>\n",
              "    </tr>\n",
              "  </tbody>\n",
              "</table>\n",
              "</div>"
            ],
            "text/plain": [
              "   Cement (component 1)(kg in a m^3 mixture)  ...  Concrete compressive strength(MPa, megapascals) \n",
              "0                                      540.0  ...                                             79.99\n",
              "1                                      540.0  ...                                             61.89\n",
              "2                                      332.5  ...                                             40.27\n",
              "3                                      332.5  ...                                             41.05\n",
              "4                                      198.6  ...                                             44.30\n",
              "\n",
              "[5 rows x 9 columns]"
            ]
          },
          "metadata": {
            "tags": []
          },
          "execution_count": 4
        }
      ]
    },
    {
      "cell_type": "code",
      "metadata": {
        "colab": {
          "base_uri": "https://localhost:8080/"
        },
        "id": "qZUNedN--t--",
        "outputId": "6c6522e5-b475-475f-88dc-a211a5b6b813"
      },
      "source": [
        "# checking shape\n",
        "con_data.shape"
      ],
      "execution_count": 5,
      "outputs": [
        {
          "output_type": "execute_result",
          "data": {
            "text/plain": [
              "(1030, 9)"
            ]
          },
          "metadata": {
            "tags": []
          },
          "execution_count": 5
        }
      ]
    },
    {
      "cell_type": "code",
      "metadata": {
        "colab": {
          "base_uri": "https://localhost:8080/"
        },
        "id": "DosBBe1p-x4X",
        "outputId": "9b38ba02-854a-4dab-a53b-7c0123477f37"
      },
      "source": [
        "# checking datatypes of columns\n",
        "con_data.dtypes"
      ],
      "execution_count": 6,
      "outputs": [
        {
          "output_type": "execute_result",
          "data": {
            "text/plain": [
              "Cement (component 1)(kg in a m^3 mixture)                float64\n",
              "Blast Furnace Slag (component 2)(kg in a m^3 mixture)    float64\n",
              "Fly Ash (component 3)(kg in a m^3 mixture)               float64\n",
              "Water  (component 4)(kg in a m^3 mixture)                float64\n",
              "Superplasticizer (component 5)(kg in a m^3 mixture)      float64\n",
              "Coarse Aggregate  (component 6)(kg in a m^3 mixture)     float64\n",
              "Fine Aggregate (component 7)(kg in a m^3 mixture)        float64\n",
              "Age (day)                                                  int64\n",
              "Concrete compressive strength(MPa, megapascals)          float64\n",
              "dtype: object"
            ]
          },
          "metadata": {
            "tags": []
          },
          "execution_count": 6
        }
      ]
    },
    {
      "cell_type": "code",
      "metadata": {
        "colab": {
          "base_uri": "https://localhost:8080/"
        },
        "id": "-wrGsS0S-7Ih",
        "outputId": "9f701efb-da72-4214-a91a-c4af4ee9ee02"
      },
      "source": [
        "# checking for null values\n",
        "con_data.isnull().any()"
      ],
      "execution_count": 7,
      "outputs": [
        {
          "output_type": "execute_result",
          "data": {
            "text/plain": [
              "Cement (component 1)(kg in a m^3 mixture)                False\n",
              "Blast Furnace Slag (component 2)(kg in a m^3 mixture)    False\n",
              "Fly Ash (component 3)(kg in a m^3 mixture)               False\n",
              "Water  (component 4)(kg in a m^3 mixture)                False\n",
              "Superplasticizer (component 5)(kg in a m^3 mixture)      False\n",
              "Coarse Aggregate  (component 6)(kg in a m^3 mixture)     False\n",
              "Fine Aggregate (component 7)(kg in a m^3 mixture)        False\n",
              "Age (day)                                                False\n",
              "Concrete compressive strength(MPa, megapascals)          False\n",
              "dtype: bool"
            ]
          },
          "metadata": {
            "tags": []
          },
          "execution_count": 7
        }
      ]
    },
    {
      "cell_type": "code",
      "metadata": {
        "colab": {
          "base_uri": "https://localhost:8080/"
        },
        "id": "CR5JHcUL_Grs",
        "outputId": "8d56d0fe-4071-4d87-d266-9c7b39f70843"
      },
      "source": [
        "# checking for empty values\n",
        "np.where(con_data.applymap(lambda x: x == ''))"
      ],
      "execution_count": 8,
      "outputs": [
        {
          "output_type": "execute_result",
          "data": {
            "text/plain": [
              "(array([], dtype=int64), array([], dtype=int64))"
            ]
          },
          "metadata": {
            "tags": []
          },
          "execution_count": 8
        }
      ]
    },
    {
      "cell_type": "code",
      "metadata": {
        "id": "8Gv2vV3gAGaN"
      },
      "source": [
        "# separating train and test data\n",
        "X_train = con_data.sample(frac = 0.7, random_state = 123)\n",
        "X_test = con_data.drop(X_train.index)"
      ],
      "execution_count": 9,
      "outputs": []
    },
    {
      "cell_type": "code",
      "metadata": {
        "colab": {
          "base_uri": "https://localhost:8080/",
          "height": 247
        },
        "id": "IW-iXBNlAoPC",
        "outputId": "11e73b57-0828-4cbc-de03-8afb21649852"
      },
      "source": [
        "X_train.head()"
      ],
      "execution_count": 10,
      "outputs": [
        {
          "output_type": "execute_result",
          "data": {
            "text/html": [
              "<div>\n",
              "<style scoped>\n",
              "    .dataframe tbody tr th:only-of-type {\n",
              "        vertical-align: middle;\n",
              "    }\n",
              "\n",
              "    .dataframe tbody tr th {\n",
              "        vertical-align: top;\n",
              "    }\n",
              "\n",
              "    .dataframe thead th {\n",
              "        text-align: right;\n",
              "    }\n",
              "</style>\n",
              "<table border=\"1\" class=\"dataframe\">\n",
              "  <thead>\n",
              "    <tr style=\"text-align: right;\">\n",
              "      <th></th>\n",
              "      <th>Cement (component 1)(kg in a m^3 mixture)</th>\n",
              "      <th>Blast Furnace Slag (component 2)(kg in a m^3 mixture)</th>\n",
              "      <th>Fly Ash (component 3)(kg in a m^3 mixture)</th>\n",
              "      <th>Water  (component 4)(kg in a m^3 mixture)</th>\n",
              "      <th>Superplasticizer (component 5)(kg in a m^3 mixture)</th>\n",
              "      <th>Coarse Aggregate  (component 6)(kg in a m^3 mixture)</th>\n",
              "      <th>Fine Aggregate (component 7)(kg in a m^3 mixture)</th>\n",
              "      <th>Age (day)</th>\n",
              "      <th>Concrete compressive strength(MPa, megapascals)</th>\n",
              "    </tr>\n",
              "  </thead>\n",
              "  <tbody>\n",
              "    <tr>\n",
              "      <th>134</th>\n",
              "      <td>362.6</td>\n",
              "      <td>189.0</td>\n",
              "      <td>0.0</td>\n",
              "      <td>164.9</td>\n",
              "      <td>11.6</td>\n",
              "      <td>944.7</td>\n",
              "      <td>755.8</td>\n",
              "      <td>28</td>\n",
              "      <td>71.30</td>\n",
              "    </tr>\n",
              "    <tr>\n",
              "      <th>13</th>\n",
              "      <td>190.0</td>\n",
              "      <td>190.0</td>\n",
              "      <td>0.0</td>\n",
              "      <td>228.0</td>\n",
              "      <td>0.0</td>\n",
              "      <td>932.0</td>\n",
              "      <td>670.0</td>\n",
              "      <td>90</td>\n",
              "      <td>42.33</td>\n",
              "    </tr>\n",
              "    <tr>\n",
              "      <th>996</th>\n",
              "      <td>152.6</td>\n",
              "      <td>238.7</td>\n",
              "      <td>0.0</td>\n",
              "      <td>200.0</td>\n",
              "      <td>6.3</td>\n",
              "      <td>1001.8</td>\n",
              "      <td>683.9</td>\n",
              "      <td>28</td>\n",
              "      <td>26.86</td>\n",
              "    </tr>\n",
              "    <tr>\n",
              "      <th>770</th>\n",
              "      <td>349.0</td>\n",
              "      <td>0.0</td>\n",
              "      <td>0.0</td>\n",
              "      <td>192.0</td>\n",
              "      <td>0.0</td>\n",
              "      <td>1047.0</td>\n",
              "      <td>806.0</td>\n",
              "      <td>3</td>\n",
              "      <td>14.99</td>\n",
              "    </tr>\n",
              "    <tr>\n",
              "      <th>937</th>\n",
              "      <td>313.3</td>\n",
              "      <td>0.0</td>\n",
              "      <td>113.0</td>\n",
              "      <td>178.5</td>\n",
              "      <td>8.0</td>\n",
              "      <td>1001.9</td>\n",
              "      <td>688.7</td>\n",
              "      <td>28</td>\n",
              "      <td>36.80</td>\n",
              "    </tr>\n",
              "  </tbody>\n",
              "</table>\n",
              "</div>"
            ],
            "text/plain": [
              "     Cement (component 1)(kg in a m^3 mixture)  ...  Concrete compressive strength(MPa, megapascals) \n",
              "134                                      362.6  ...                                             71.30\n",
              "13                                       190.0  ...                                             42.33\n",
              "996                                      152.6  ...                                             26.86\n",
              "770                                      349.0  ...                                             14.99\n",
              "937                                      313.3  ...                                             36.80\n",
              "\n",
              "[5 rows x 9 columns]"
            ]
          },
          "metadata": {
            "tags": []
          },
          "execution_count": 10
        }
      ]
    },
    {
      "cell_type": "code",
      "metadata": {
        "id": "lT7ygnmiAuh-"
      },
      "source": [
        "# assigning features and target columns\n",
        "Y_train = X_train.iloc[:,-1]\n",
        "X_train = X_train.iloc[:,0:-1]\n",
        "Y_test = X_test.iloc[:,-1]\n",
        "X_test = X_test.iloc[:,0:-1]"
      ],
      "execution_count": 11,
      "outputs": []
    },
    {
      "cell_type": "code",
      "metadata": {
        "id": "fFZb9AfDidkn"
      },
      "source": [
        "# normalization"
      ],
      "execution_count": null,
      "outputs": []
    },
    {
      "cell_type": "code",
      "metadata": {
        "id": "3z3Tzn9eZodp"
      },
      "source": [
        "X_mean = X_train.mean()\n",
        "X_train -= X_mean\n",
        "X_std = X_train.std()\n",
        "X_train /= X_std\n",
        "X_test -= X_mean\n",
        "X_test /= X_std"
      ],
      "execution_count": 12,
      "outputs": []
    },
    {
      "cell_type": "code",
      "metadata": {
        "id": "i4ziOsnkZzFz"
      },
      "source": [
        "Y_mean = Y_train.mean()\n",
        "Y_train -= Y_mean\n",
        "Y_std = Y_train.std()\n",
        "Y_train /= Y_std\n",
        "Y_test -= Y_mean\n",
        "Y_test /= Y_std"
      ],
      "execution_count": 13,
      "outputs": []
    },
    {
      "cell_type": "code",
      "metadata": {
        "colab": {
          "base_uri": "https://localhost:8080/"
        },
        "id": "XBsKF9uxZ3ii",
        "outputId": "880d230c-8d70-4176-b022-55388bd01995"
      },
      "source": [
        "X_train.dtypes"
      ],
      "execution_count": 14,
      "outputs": [
        {
          "output_type": "execute_result",
          "data": {
            "text/plain": [
              "Cement (component 1)(kg in a m^3 mixture)                float64\n",
              "Blast Furnace Slag (component 2)(kg in a m^3 mixture)    float64\n",
              "Fly Ash (component 3)(kg in a m^3 mixture)               float64\n",
              "Water  (component 4)(kg in a m^3 mixture)                float64\n",
              "Superplasticizer (component 5)(kg in a m^3 mixture)      float64\n",
              "Coarse Aggregate  (component 6)(kg in a m^3 mixture)     float64\n",
              "Fine Aggregate (component 7)(kg in a m^3 mixture)        float64\n",
              "Age (day)                                                float64\n",
              "dtype: object"
            ]
          },
          "metadata": {
            "tags": []
          },
          "execution_count": 14
        }
      ]
    },
    {
      "cell_type": "code",
      "metadata": {
        "id": "ozxlms_3aFOS"
      },
      "source": [
        "X_train = X_train.to_numpy()\n",
        "Y_train = Y_train.to_numpy()\n",
        "X_test = X_test.to_numpy()\n",
        "Y_test = Y_test.to_numpy()\n"
      ],
      "execution_count": 15,
      "outputs": []
    },
    {
      "cell_type": "code",
      "metadata": {
        "id": "xnD_IKEBijnc"
      },
      "source": [
        "# training model"
      ],
      "execution_count": null,
      "outputs": []
    },
    {
      "cell_type": "code",
      "metadata": {
        "id": "eeAsAG1cb8aB"
      },
      "source": [
        "network = M.Sequential()"
      ],
      "execution_count": 17,
      "outputs": []
    },
    {
      "cell_type": "code",
      "metadata": {
        "id": "wMGAtz55eobO"
      },
      "source": [
        "network.add(L.Dense(128,activation=\"relu\",input_shape=(X_train.shape[1],)))"
      ],
      "execution_count": 18,
      "outputs": []
    },
    {
      "cell_type": "code",
      "metadata": {
        "id": "JSHBmImZevH4"
      },
      "source": [
        "network.add(L.Dense(64,activation=\"relu\"))"
      ],
      "execution_count": 19,
      "outputs": []
    },
    {
      "cell_type": "code",
      "metadata": {
        "id": "7xf4fAWWe-J7"
      },
      "source": [
        "network.add(L.Dense(32,activation=\"relu\"))"
      ],
      "execution_count": 20,
      "outputs": []
    },
    {
      "cell_type": "code",
      "metadata": {
        "id": "mWuugL1vfU2n"
      },
      "source": [
        "network.add(L.Dense(1))"
      ],
      "execution_count": 21,
      "outputs": []
    },
    {
      "cell_type": "code",
      "metadata": {
        "id": "8OmE2W2pfb-9"
      },
      "source": [
        "network.compile(optimizer=\"rmsprop\",loss=[\"mse\"],metrics=[\"mae\"])"
      ],
      "execution_count": 22,
      "outputs": []
    },
    {
      "cell_type": "code",
      "metadata": {
        "colab": {
          "base_uri": "https://localhost:8080/"
        },
        "id": "ka0oOlCRfkML",
        "outputId": "c93abee7-20b5-4640-a9d8-7a29fa3492da"
      },
      "source": [
        "history = network.fit(X_train,Y_train,epochs=200,validation_split=0.3, batch_size = 16)"
      ],
      "execution_count": 23,
      "outputs": [
        {
          "output_type": "stream",
          "text": [
            "Epoch 1/200\n",
            "32/32 [==============================] - 1s 17ms/step - loss: 0.5734 - mae: 0.6129 - val_loss: 0.3413 - val_mae: 0.4576\n",
            "Epoch 2/200\n",
            "32/32 [==============================] - 0s 3ms/step - loss: 0.2929 - mae: 0.4368 - val_loss: 0.3254 - val_mae: 0.4454\n",
            "Epoch 3/200\n",
            "32/32 [==============================] - 0s 3ms/step - loss: 0.2348 - mae: 0.3754 - val_loss: 0.2674 - val_mae: 0.4024\n",
            "Epoch 4/200\n",
            "32/32 [==============================] - 0s 3ms/step - loss: 0.1849 - mae: 0.3235 - val_loss: 0.2596 - val_mae: 0.4069\n",
            "Epoch 5/200\n",
            "32/32 [==============================] - 0s 3ms/step - loss: 0.1754 - mae: 0.3205 - val_loss: 0.2941 - val_mae: 0.4096\n",
            "Epoch 6/200\n",
            "32/32 [==============================] - 0s 3ms/step - loss: 0.1479 - mae: 0.3000 - val_loss: 0.2233 - val_mae: 0.3591\n",
            "Epoch 7/200\n",
            "32/32 [==============================] - 0s 3ms/step - loss: 0.1453 - mae: 0.2921 - val_loss: 0.2363 - val_mae: 0.3598\n",
            "Epoch 8/200\n",
            "32/32 [==============================] - 0s 3ms/step - loss: 0.1416 - mae: 0.2937 - val_loss: 0.2294 - val_mae: 0.3721\n",
            "Epoch 9/200\n",
            "32/32 [==============================] - 0s 3ms/step - loss: 0.1277 - mae: 0.2581 - val_loss: 0.1929 - val_mae: 0.3367\n",
            "Epoch 10/200\n",
            "32/32 [==============================] - 0s 3ms/step - loss: 0.0964 - mae: 0.2373 - val_loss: 0.1823 - val_mae: 0.3156\n",
            "Epoch 11/200\n",
            "32/32 [==============================] - 0s 3ms/step - loss: 0.0778 - mae: 0.2158 - val_loss: 0.2034 - val_mae: 0.3449\n",
            "Epoch 12/200\n",
            "32/32 [==============================] - 0s 3ms/step - loss: 0.0816 - mae: 0.2205 - val_loss: 0.1850 - val_mae: 0.3182\n",
            "Epoch 13/200\n",
            "32/32 [==============================] - 0s 3ms/step - loss: 0.0862 - mae: 0.2276 - val_loss: 0.1805 - val_mae: 0.3170\n",
            "Epoch 14/200\n",
            "32/32 [==============================] - 0s 3ms/step - loss: 0.0682 - mae: 0.1953 - val_loss: 0.1626 - val_mae: 0.3098\n",
            "Epoch 15/200\n",
            "32/32 [==============================] - 0s 3ms/step - loss: 0.0843 - mae: 0.2246 - val_loss: 0.2564 - val_mae: 0.3886\n",
            "Epoch 16/200\n",
            "32/32 [==============================] - 0s 3ms/step - loss: 0.0721 - mae: 0.2088 - val_loss: 0.1872 - val_mae: 0.3219\n",
            "Epoch 17/200\n",
            "32/32 [==============================] - 0s 3ms/step - loss: 0.0670 - mae: 0.2026 - val_loss: 0.1779 - val_mae: 0.3209\n",
            "Epoch 18/200\n",
            "32/32 [==============================] - 0s 3ms/step - loss: 0.0733 - mae: 0.2011 - val_loss: 0.1463 - val_mae: 0.2910\n",
            "Epoch 19/200\n",
            "32/32 [==============================] - 0s 2ms/step - loss: 0.0703 - mae: 0.2030 - val_loss: 0.1524 - val_mae: 0.2952\n",
            "Epoch 20/200\n",
            "32/32 [==============================] - 0s 3ms/step - loss: 0.0695 - mae: 0.1957 - val_loss: 0.2023 - val_mae: 0.3541\n",
            "Epoch 21/200\n",
            "32/32 [==============================] - 0s 3ms/step - loss: 0.0644 - mae: 0.1939 - val_loss: 0.1487 - val_mae: 0.2982\n",
            "Epoch 22/200\n",
            "32/32 [==============================] - 0s 3ms/step - loss: 0.0547 - mae: 0.1778 - val_loss: 0.1481 - val_mae: 0.2884\n",
            "Epoch 23/200\n",
            "32/32 [==============================] - 0s 3ms/step - loss: 0.0702 - mae: 0.2034 - val_loss: 0.1513 - val_mae: 0.2927\n",
            "Epoch 24/200\n",
            "32/32 [==============================] - 0s 3ms/step - loss: 0.0741 - mae: 0.1948 - val_loss: 0.2073 - val_mae: 0.3376\n",
            "Epoch 25/200\n",
            "32/32 [==============================] - 0s 2ms/step - loss: 0.0654 - mae: 0.2034 - val_loss: 0.1670 - val_mae: 0.3016\n",
            "Epoch 26/200\n",
            "32/32 [==============================] - 0s 3ms/step - loss: 0.0623 - mae: 0.1811 - val_loss: 0.1396 - val_mae: 0.2826\n",
            "Epoch 27/200\n",
            "32/32 [==============================] - 0s 3ms/step - loss: 0.0587 - mae: 0.1743 - val_loss: 0.1392 - val_mae: 0.2725\n",
            "Epoch 28/200\n",
            "32/32 [==============================] - 0s 3ms/step - loss: 0.0584 - mae: 0.1737 - val_loss: 0.1439 - val_mae: 0.2893\n",
            "Epoch 29/200\n",
            "32/32 [==============================] - 0s 3ms/step - loss: 0.0553 - mae: 0.1763 - val_loss: 0.1602 - val_mae: 0.3008\n",
            "Epoch 30/200\n",
            "32/32 [==============================] - 0s 3ms/step - loss: 0.0522 - mae: 0.1718 - val_loss: 0.1707 - val_mae: 0.3173\n",
            "Epoch 31/200\n",
            "32/32 [==============================] - 0s 2ms/step - loss: 0.0553 - mae: 0.1792 - val_loss: 0.1377 - val_mae: 0.2847\n",
            "Epoch 32/200\n",
            "32/32 [==============================] - 0s 3ms/step - loss: 0.0518 - mae: 0.1649 - val_loss: 0.1357 - val_mae: 0.2780\n",
            "Epoch 33/200\n",
            "32/32 [==============================] - 0s 3ms/step - loss: 0.0599 - mae: 0.1732 - val_loss: 0.1524 - val_mae: 0.2899\n",
            "Epoch 34/200\n",
            "32/32 [==============================] - 0s 3ms/step - loss: 0.0472 - mae: 0.1643 - val_loss: 0.1323 - val_mae: 0.2667\n",
            "Epoch 35/200\n",
            "32/32 [==============================] - 0s 3ms/step - loss: 0.0416 - mae: 0.1544 - val_loss: 0.1402 - val_mae: 0.2832\n",
            "Epoch 36/200\n",
            "32/32 [==============================] - 0s 2ms/step - loss: 0.0439 - mae: 0.1632 - val_loss: 0.1350 - val_mae: 0.2686\n",
            "Epoch 37/200\n",
            "32/32 [==============================] - 0s 3ms/step - loss: 0.0389 - mae: 0.1460 - val_loss: 0.1397 - val_mae: 0.2768\n",
            "Epoch 38/200\n",
            "32/32 [==============================] - 0s 3ms/step - loss: 0.0377 - mae: 0.1431 - val_loss: 0.1259 - val_mae: 0.2690\n",
            "Epoch 39/200\n",
            "32/32 [==============================] - 0s 3ms/step - loss: 0.0455 - mae: 0.1484 - val_loss: 0.1675 - val_mae: 0.3046\n",
            "Epoch 40/200\n",
            "32/32 [==============================] - 0s 3ms/step - loss: 0.0543 - mae: 0.1686 - val_loss: 0.1431 - val_mae: 0.2737\n",
            "Epoch 41/200\n",
            "32/32 [==============================] - 0s 3ms/step - loss: 0.0414 - mae: 0.1503 - val_loss: 0.1307 - val_mae: 0.2661\n",
            "Epoch 42/200\n",
            "32/32 [==============================] - 0s 3ms/step - loss: 0.0393 - mae: 0.1488 - val_loss: 0.1334 - val_mae: 0.2765\n",
            "Epoch 43/200\n",
            "32/32 [==============================] - 0s 2ms/step - loss: 0.0496 - mae: 0.1677 - val_loss: 0.1242 - val_mae: 0.2666\n",
            "Epoch 44/200\n",
            "32/32 [==============================] - 0s 3ms/step - loss: 0.0393 - mae: 0.1528 - val_loss: 0.1548 - val_mae: 0.3035\n",
            "Epoch 45/200\n",
            "32/32 [==============================] - 0s 2ms/step - loss: 0.0524 - mae: 0.1588 - val_loss: 0.1248 - val_mae: 0.2616\n",
            "Epoch 46/200\n",
            "32/32 [==============================] - 0s 2ms/step - loss: 0.0423 - mae: 0.1402 - val_loss: 0.1255 - val_mae: 0.2603\n",
            "Epoch 47/200\n",
            "32/32 [==============================] - 0s 3ms/step - loss: 0.0406 - mae: 0.1427 - val_loss: 0.1212 - val_mae: 0.2582\n",
            "Epoch 48/200\n",
            "32/32 [==============================] - 0s 3ms/step - loss: 0.0302 - mae: 0.1301 - val_loss: 0.1418 - val_mae: 0.2849\n",
            "Epoch 49/200\n",
            "32/32 [==============================] - 0s 3ms/step - loss: 0.0362 - mae: 0.1410 - val_loss: 0.1317 - val_mae: 0.2713\n",
            "Epoch 50/200\n",
            "32/32 [==============================] - 0s 3ms/step - loss: 0.0360 - mae: 0.1401 - val_loss: 0.1374 - val_mae: 0.2816\n",
            "Epoch 51/200\n",
            "32/32 [==============================] - 0s 3ms/step - loss: 0.0444 - mae: 0.1517 - val_loss: 0.1350 - val_mae: 0.2698\n",
            "Epoch 52/200\n",
            "32/32 [==============================] - 0s 3ms/step - loss: 0.0285 - mae: 0.1230 - val_loss: 0.1384 - val_mae: 0.2853\n",
            "Epoch 53/200\n",
            "32/32 [==============================] - 0s 3ms/step - loss: 0.0419 - mae: 0.1538 - val_loss: 0.1252 - val_mae: 0.2632\n",
            "Epoch 54/200\n",
            "32/32 [==============================] - 0s 3ms/step - loss: 0.0448 - mae: 0.1424 - val_loss: 0.1265 - val_mae: 0.2714\n",
            "Epoch 55/200\n",
            "32/32 [==============================] - 0s 2ms/step - loss: 0.0345 - mae: 0.1351 - val_loss: 0.1255 - val_mae: 0.2633\n",
            "Epoch 56/200\n",
            "32/32 [==============================] - 0s 3ms/step - loss: 0.0300 - mae: 0.1319 - val_loss: 0.1301 - val_mae: 0.2644\n",
            "Epoch 57/200\n",
            "32/32 [==============================] - 0s 2ms/step - loss: 0.0379 - mae: 0.1442 - val_loss: 0.1305 - val_mae: 0.2640\n",
            "Epoch 58/200\n",
            "32/32 [==============================] - 0s 3ms/step - loss: 0.0354 - mae: 0.1326 - val_loss: 0.1215 - val_mae: 0.2525\n",
            "Epoch 59/200\n",
            "32/32 [==============================] - 0s 3ms/step - loss: 0.0357 - mae: 0.1355 - val_loss: 0.1368 - val_mae: 0.2710\n",
            "Epoch 60/200\n",
            "32/32 [==============================] - 0s 3ms/step - loss: 0.0327 - mae: 0.1325 - val_loss: 0.1234 - val_mae: 0.2574\n",
            "Epoch 61/200\n",
            "32/32 [==============================] - 0s 3ms/step - loss: 0.0372 - mae: 0.1419 - val_loss: 0.1362 - val_mae: 0.2711\n",
            "Epoch 62/200\n",
            "32/32 [==============================] - 0s 3ms/step - loss: 0.0306 - mae: 0.1280 - val_loss: 0.1495 - val_mae: 0.2772\n",
            "Epoch 63/200\n",
            "32/32 [==============================] - 0s 2ms/step - loss: 0.0314 - mae: 0.1229 - val_loss: 0.1390 - val_mae: 0.2704\n",
            "Epoch 64/200\n",
            "32/32 [==============================] - 0s 2ms/step - loss: 0.0360 - mae: 0.1333 - val_loss: 0.1591 - val_mae: 0.2985\n",
            "Epoch 65/200\n",
            "32/32 [==============================] - 0s 3ms/step - loss: 0.0358 - mae: 0.1395 - val_loss: 0.1288 - val_mae: 0.2619\n",
            "Epoch 66/200\n",
            "32/32 [==============================] - 0s 3ms/step - loss: 0.0380 - mae: 0.1374 - val_loss: 0.1230 - val_mae: 0.2598\n",
            "Epoch 67/200\n",
            "32/32 [==============================] - 0s 3ms/step - loss: 0.0350 - mae: 0.1336 - val_loss: 0.1230 - val_mae: 0.2552\n",
            "Epoch 68/200\n",
            "32/32 [==============================] - 0s 3ms/step - loss: 0.0340 - mae: 0.1348 - val_loss: 0.1339 - val_mae: 0.2735\n",
            "Epoch 69/200\n",
            "32/32 [==============================] - 0s 3ms/step - loss: 0.0378 - mae: 0.1307 - val_loss: 0.1451 - val_mae: 0.2847\n",
            "Epoch 70/200\n",
            "32/32 [==============================] - 0s 3ms/step - loss: 0.0392 - mae: 0.1419 - val_loss: 0.1204 - val_mae: 0.2600\n",
            "Epoch 71/200\n",
            "32/32 [==============================] - 0s 3ms/step - loss: 0.0374 - mae: 0.1407 - val_loss: 0.1188 - val_mae: 0.2612\n",
            "Epoch 72/200\n",
            "32/32 [==============================] - 0s 3ms/step - loss: 0.0293 - mae: 0.1240 - val_loss: 0.1469 - val_mae: 0.2924\n",
            "Epoch 73/200\n",
            "32/32 [==============================] - 0s 3ms/step - loss: 0.0368 - mae: 0.1379 - val_loss: 0.1280 - val_mae: 0.2627\n",
            "Epoch 74/200\n",
            "32/32 [==============================] - 0s 3ms/step - loss: 0.0353 - mae: 0.1353 - val_loss: 0.1372 - val_mae: 0.2893\n",
            "Epoch 75/200\n",
            "32/32 [==============================] - 0s 3ms/step - loss: 0.0365 - mae: 0.1358 - val_loss: 0.1194 - val_mae: 0.2529\n",
            "Epoch 76/200\n",
            "32/32 [==============================] - 0s 3ms/step - loss: 0.0264 - mae: 0.1168 - val_loss: 0.1180 - val_mae: 0.2573\n",
            "Epoch 77/200\n",
            "32/32 [==============================] - 0s 3ms/step - loss: 0.0466 - mae: 0.1380 - val_loss: 0.1335 - val_mae: 0.2600\n",
            "Epoch 78/200\n",
            "32/32 [==============================] - 0s 3ms/step - loss: 0.0341 - mae: 0.1287 - val_loss: 0.1250 - val_mae: 0.2530\n",
            "Epoch 79/200\n",
            "32/32 [==============================] - 0s 3ms/step - loss: 0.0274 - mae: 0.1130 - val_loss: 0.2108 - val_mae: 0.3435\n",
            "Epoch 80/200\n",
            "32/32 [==============================] - 0s 3ms/step - loss: 0.0403 - mae: 0.1409 - val_loss: 0.1650 - val_mae: 0.3001\n",
            "Epoch 81/200\n",
            "32/32 [==============================] - 0s 3ms/step - loss: 0.0368 - mae: 0.1305 - val_loss: 0.1325 - val_mae: 0.2660\n",
            "Epoch 82/200\n",
            "32/32 [==============================] - 0s 3ms/step - loss: 0.0225 - mae: 0.1082 - val_loss: 0.1465 - val_mae: 0.2887\n",
            "Epoch 83/200\n",
            "32/32 [==============================] - 0s 3ms/step - loss: 0.0290 - mae: 0.1188 - val_loss: 0.1795 - val_mae: 0.3221\n",
            "Epoch 84/200\n",
            "32/32 [==============================] - 0s 3ms/step - loss: 0.0340 - mae: 0.1256 - val_loss: 0.1297 - val_mae: 0.2592\n",
            "Epoch 85/200\n",
            "32/32 [==============================] - 0s 2ms/step - loss: 0.0269 - mae: 0.1169 - val_loss: 0.1216 - val_mae: 0.2559\n",
            "Epoch 86/200\n",
            "32/32 [==============================] - 0s 3ms/step - loss: 0.0324 - mae: 0.1254 - val_loss: 0.1334 - val_mae: 0.2685\n",
            "Epoch 87/200\n",
            "32/32 [==============================] - 0s 3ms/step - loss: 0.0295 - mae: 0.1270 - val_loss: 0.1470 - val_mae: 0.2775\n",
            "Epoch 88/200\n",
            "32/32 [==============================] - 0s 3ms/step - loss: 0.0264 - mae: 0.1170 - val_loss: 0.1330 - val_mae: 0.2797\n",
            "Epoch 89/200\n",
            "32/32 [==============================] - 0s 3ms/step - loss: 0.0339 - mae: 0.1227 - val_loss: 0.1242 - val_mae: 0.2564\n",
            "Epoch 90/200\n",
            "32/32 [==============================] - 0s 3ms/step - loss: 0.0274 - mae: 0.1228 - val_loss: 0.1317 - val_mae: 0.2615\n",
            "Epoch 91/200\n",
            "32/32 [==============================] - 0s 3ms/step - loss: 0.0256 - mae: 0.1148 - val_loss: 0.1275 - val_mae: 0.2634\n",
            "Epoch 92/200\n",
            "32/32 [==============================] - 0s 3ms/step - loss: 0.0388 - mae: 0.1260 - val_loss: 0.1257 - val_mae: 0.2616\n",
            "Epoch 93/200\n",
            "32/32 [==============================] - 0s 3ms/step - loss: 0.0273 - mae: 0.1147 - val_loss: 0.1283 - val_mae: 0.2569\n",
            "Epoch 94/200\n",
            "32/32 [==============================] - 0s 3ms/step - loss: 0.0332 - mae: 0.1198 - val_loss: 0.1239 - val_mae: 0.2612\n",
            "Epoch 95/200\n",
            "32/32 [==============================] - 0s 4ms/step - loss: 0.0352 - mae: 0.1281 - val_loss: 0.1249 - val_mae: 0.2536\n",
            "Epoch 96/200\n",
            "32/32 [==============================] - 0s 3ms/step - loss: 0.0236 - mae: 0.1094 - val_loss: 0.1129 - val_mae: 0.2459\n",
            "Epoch 97/200\n",
            "32/32 [==============================] - 0s 3ms/step - loss: 0.0207 - mae: 0.0985 - val_loss: 0.1238 - val_mae: 0.2553\n",
            "Epoch 98/200\n",
            "32/32 [==============================] - 0s 3ms/step - loss: 0.0207 - mae: 0.1023 - val_loss: 0.1286 - val_mae: 0.2621\n",
            "Epoch 99/200\n",
            "32/32 [==============================] - 0s 3ms/step - loss: 0.0264 - mae: 0.1184 - val_loss: 0.1179 - val_mae: 0.2521\n",
            "Epoch 100/200\n",
            "32/32 [==============================] - 0s 3ms/step - loss: 0.0253 - mae: 0.1128 - val_loss: 0.1270 - val_mae: 0.2578\n",
            "Epoch 101/200\n",
            "32/32 [==============================] - 0s 3ms/step - loss: 0.0299 - mae: 0.1171 - val_loss: 0.1241 - val_mae: 0.2558\n",
            "Epoch 102/200\n",
            "32/32 [==============================] - 0s 3ms/step - loss: 0.0208 - mae: 0.1066 - val_loss: 0.1185 - val_mae: 0.2432\n",
            "Epoch 103/200\n",
            "32/32 [==============================] - 0s 3ms/step - loss: 0.0263 - mae: 0.1102 - val_loss: 0.1173 - val_mae: 0.2458\n",
            "Epoch 104/200\n",
            "32/32 [==============================] - 0s 3ms/step - loss: 0.0243 - mae: 0.1071 - val_loss: 0.1191 - val_mae: 0.2635\n",
            "Epoch 105/200\n",
            "32/32 [==============================] - 0s 3ms/step - loss: 0.0288 - mae: 0.1173 - val_loss: 0.1144 - val_mae: 0.2444\n",
            "Epoch 106/200\n",
            "32/32 [==============================] - 0s 3ms/step - loss: 0.0253 - mae: 0.1107 - val_loss: 0.1270 - val_mae: 0.2529\n",
            "Epoch 107/200\n",
            "32/32 [==============================] - 0s 3ms/step - loss: 0.0223 - mae: 0.1077 - val_loss: 0.1202 - val_mae: 0.2519\n",
            "Epoch 108/200\n",
            "32/32 [==============================] - 0s 3ms/step - loss: 0.0256 - mae: 0.1101 - val_loss: 0.1210 - val_mae: 0.2544\n",
            "Epoch 109/200\n",
            "32/32 [==============================] - 0s 3ms/step - loss: 0.0280 - mae: 0.1135 - val_loss: 0.1242 - val_mae: 0.2568\n",
            "Epoch 110/200\n",
            "32/32 [==============================] - 0s 3ms/step - loss: 0.0276 - mae: 0.1109 - val_loss: 0.1107 - val_mae: 0.2360\n",
            "Epoch 111/200\n",
            "32/32 [==============================] - 0s 3ms/step - loss: 0.0218 - mae: 0.0980 - val_loss: 0.1239 - val_mae: 0.2549\n",
            "Epoch 112/200\n",
            "32/32 [==============================] - 0s 3ms/step - loss: 0.0216 - mae: 0.1047 - val_loss: 0.1337 - val_mae: 0.2604\n",
            "Epoch 113/200\n",
            "32/32 [==============================] - 0s 3ms/step - loss: 0.0209 - mae: 0.1010 - val_loss: 0.1244 - val_mae: 0.2563\n",
            "Epoch 114/200\n",
            "32/32 [==============================] - 0s 3ms/step - loss: 0.0181 - mae: 0.0899 - val_loss: 0.1188 - val_mae: 0.2446\n",
            "Epoch 115/200\n",
            "32/32 [==============================] - 0s 3ms/step - loss: 0.0235 - mae: 0.1017 - val_loss: 0.1217 - val_mae: 0.2528\n",
            "Epoch 116/200\n",
            "32/32 [==============================] - 0s 3ms/step - loss: 0.0236 - mae: 0.1050 - val_loss: 0.1124 - val_mae: 0.2410\n",
            "Epoch 117/200\n",
            "32/32 [==============================] - 0s 3ms/step - loss: 0.0187 - mae: 0.0976 - val_loss: 0.1223 - val_mae: 0.2601\n",
            "Epoch 118/200\n",
            "32/32 [==============================] - 0s 3ms/step - loss: 0.0194 - mae: 0.0989 - val_loss: 0.1175 - val_mae: 0.2444\n",
            "Epoch 119/200\n",
            "32/32 [==============================] - 0s 3ms/step - loss: 0.0216 - mae: 0.1035 - val_loss: 0.1253 - val_mae: 0.2695\n",
            "Epoch 120/200\n",
            "32/32 [==============================] - 0s 3ms/step - loss: 0.0241 - mae: 0.1073 - val_loss: 0.1151 - val_mae: 0.2391\n",
            "Epoch 121/200\n",
            "32/32 [==============================] - 0s 3ms/step - loss: 0.0198 - mae: 0.0957 - val_loss: 0.1246 - val_mae: 0.2524\n",
            "Epoch 122/200\n",
            "32/32 [==============================] - 0s 3ms/step - loss: 0.0225 - mae: 0.1017 - val_loss: 0.1201 - val_mae: 0.2438\n",
            "Epoch 123/200\n",
            "32/32 [==============================] - 0s 3ms/step - loss: 0.0255 - mae: 0.1101 - val_loss: 0.1218 - val_mae: 0.2601\n",
            "Epoch 124/200\n",
            "32/32 [==============================] - 0s 3ms/step - loss: 0.0275 - mae: 0.1073 - val_loss: 0.1175 - val_mae: 0.2461\n",
            "Epoch 125/200\n",
            "32/32 [==============================] - 0s 3ms/step - loss: 0.0186 - mae: 0.0915 - val_loss: 0.1230 - val_mae: 0.2620\n",
            "Epoch 126/200\n",
            "32/32 [==============================] - 0s 3ms/step - loss: 0.0318 - mae: 0.1179 - val_loss: 0.1179 - val_mae: 0.2481\n",
            "Epoch 127/200\n",
            "32/32 [==============================] - 0s 3ms/step - loss: 0.0179 - mae: 0.0949 - val_loss: 0.1153 - val_mae: 0.2471\n",
            "Epoch 128/200\n",
            "32/32 [==============================] - 0s 3ms/step - loss: 0.0255 - mae: 0.1087 - val_loss: 0.1149 - val_mae: 0.2494\n",
            "Epoch 129/200\n",
            "32/32 [==============================] - 0s 3ms/step - loss: 0.0224 - mae: 0.1055 - val_loss: 0.1142 - val_mae: 0.2484\n",
            "Epoch 130/200\n",
            "32/32 [==============================] - 0s 3ms/step - loss: 0.0176 - mae: 0.0877 - val_loss: 0.1274 - val_mae: 0.2620\n",
            "Epoch 131/200\n",
            "32/32 [==============================] - 0s 3ms/step - loss: 0.0211 - mae: 0.0964 - val_loss: 0.1190 - val_mae: 0.2491\n",
            "Epoch 132/200\n",
            "32/32 [==============================] - 0s 4ms/step - loss: 0.0227 - mae: 0.0912 - val_loss: 0.1143 - val_mae: 0.2422\n",
            "Epoch 133/200\n",
            "32/32 [==============================] - 0s 3ms/step - loss: 0.0205 - mae: 0.1043 - val_loss: 0.1343 - val_mae: 0.2683\n",
            "Epoch 134/200\n",
            "32/32 [==============================] - 0s 3ms/step - loss: 0.0205 - mae: 0.0995 - val_loss: 0.1225 - val_mae: 0.2561\n",
            "Epoch 135/200\n",
            "32/32 [==============================] - 0s 3ms/step - loss: 0.0183 - mae: 0.0951 - val_loss: 0.1184 - val_mae: 0.2516\n",
            "Epoch 136/200\n",
            "32/32 [==============================] - 0s 3ms/step - loss: 0.0194 - mae: 0.0959 - val_loss: 0.1535 - val_mae: 0.2985\n",
            "Epoch 137/200\n",
            "32/32 [==============================] - 0s 3ms/step - loss: 0.0268 - mae: 0.1156 - val_loss: 0.1205 - val_mae: 0.2571\n",
            "Epoch 138/200\n",
            "32/32 [==============================] - 0s 3ms/step - loss: 0.0208 - mae: 0.0926 - val_loss: 0.1250 - val_mae: 0.2554\n",
            "Epoch 139/200\n",
            "32/32 [==============================] - 0s 3ms/step - loss: 0.0176 - mae: 0.0914 - val_loss: 0.1180 - val_mae: 0.2466\n",
            "Epoch 140/200\n",
            "32/32 [==============================] - 0s 3ms/step - loss: 0.0205 - mae: 0.1005 - val_loss: 0.1288 - val_mae: 0.2640\n",
            "Epoch 141/200\n",
            "32/32 [==============================] - 0s 3ms/step - loss: 0.0213 - mae: 0.1046 - val_loss: 0.1173 - val_mae: 0.2437\n",
            "Epoch 142/200\n",
            "32/32 [==============================] - 0s 4ms/step - loss: 0.0222 - mae: 0.0986 - val_loss: 0.1312 - val_mae: 0.2656\n",
            "Epoch 143/200\n",
            "32/32 [==============================] - 0s 3ms/step - loss: 0.0322 - mae: 0.1090 - val_loss: 0.1255 - val_mae: 0.2604\n",
            "Epoch 144/200\n",
            "32/32 [==============================] - 0s 3ms/step - loss: 0.0156 - mae: 0.0890 - val_loss: 0.1258 - val_mae: 0.2573\n",
            "Epoch 145/200\n",
            "32/32 [==============================] - 0s 3ms/step - loss: 0.0174 - mae: 0.0951 - val_loss: 0.1128 - val_mae: 0.2432\n",
            "Epoch 146/200\n",
            "32/32 [==============================] - 0s 3ms/step - loss: 0.0174 - mae: 0.0890 - val_loss: 0.1391 - val_mae: 0.2691\n",
            "Epoch 147/200\n",
            "32/32 [==============================] - 0s 3ms/step - loss: 0.0288 - mae: 0.1115 - val_loss: 0.1180 - val_mae: 0.2463\n",
            "Epoch 148/200\n",
            "32/32 [==============================] - 0s 4ms/step - loss: 0.0208 - mae: 0.0987 - val_loss: 0.1188 - val_mae: 0.2410\n",
            "Epoch 149/200\n",
            "32/32 [==============================] - 0s 3ms/step - loss: 0.0224 - mae: 0.0977 - val_loss: 0.1500 - val_mae: 0.2778\n",
            "Epoch 150/200\n",
            "32/32 [==============================] - 0s 3ms/step - loss: 0.0249 - mae: 0.1041 - val_loss: 0.1157 - val_mae: 0.2468\n",
            "Epoch 151/200\n",
            "32/32 [==============================] - 0s 3ms/step - loss: 0.0221 - mae: 0.0943 - val_loss: 0.1163 - val_mae: 0.2418\n",
            "Epoch 152/200\n",
            "32/32 [==============================] - 0s 3ms/step - loss: 0.0206 - mae: 0.0961 - val_loss: 0.1289 - val_mae: 0.2609\n",
            "Epoch 153/200\n",
            "32/32 [==============================] - 0s 3ms/step - loss: 0.0193 - mae: 0.0998 - val_loss: 0.1177 - val_mae: 0.2452\n",
            "Epoch 154/200\n",
            "32/32 [==============================] - 0s 3ms/step - loss: 0.0171 - mae: 0.0869 - val_loss: 0.1315 - val_mae: 0.2712\n",
            "Epoch 155/200\n",
            "32/32 [==============================] - 0s 4ms/step - loss: 0.0199 - mae: 0.1015 - val_loss: 0.1261 - val_mae: 0.2651\n",
            "Epoch 156/200\n",
            "32/32 [==============================] - 0s 3ms/step - loss: 0.0175 - mae: 0.0946 - val_loss: 0.1283 - val_mae: 0.2587\n",
            "Epoch 157/200\n",
            "32/32 [==============================] - 0s 3ms/step - loss: 0.0246 - mae: 0.1028 - val_loss: 0.1091 - val_mae: 0.2362\n",
            "Epoch 158/200\n",
            "32/32 [==============================] - 0s 3ms/step - loss: 0.0234 - mae: 0.1004 - val_loss: 0.1165 - val_mae: 0.2381\n",
            "Epoch 159/200\n",
            "32/32 [==============================] - 0s 3ms/step - loss: 0.0201 - mae: 0.0926 - val_loss: 0.1331 - val_mae: 0.2726\n",
            "Epoch 160/200\n",
            "32/32 [==============================] - 0s 3ms/step - loss: 0.0229 - mae: 0.0985 - val_loss: 0.1192 - val_mae: 0.2490\n",
            "Epoch 161/200\n",
            "32/32 [==============================] - 0s 3ms/step - loss: 0.0209 - mae: 0.0931 - val_loss: 0.1167 - val_mae: 0.2460\n",
            "Epoch 162/200\n",
            "32/32 [==============================] - 0s 3ms/step - loss: 0.0181 - mae: 0.0928 - val_loss: 0.1215 - val_mae: 0.2506\n",
            "Epoch 163/200\n",
            "32/32 [==============================] - 0s 3ms/step - loss: 0.0157 - mae: 0.0882 - val_loss: 0.1138 - val_mae: 0.2445\n",
            "Epoch 164/200\n",
            "32/32 [==============================] - 0s 3ms/step - loss: 0.0175 - mae: 0.0894 - val_loss: 0.1154 - val_mae: 0.2446\n",
            "Epoch 165/200\n",
            "32/32 [==============================] - 0s 3ms/step - loss: 0.0186 - mae: 0.0899 - val_loss: 0.1327 - val_mae: 0.2577\n",
            "Epoch 166/200\n",
            "32/32 [==============================] - 0s 3ms/step - loss: 0.0215 - mae: 0.0971 - val_loss: 0.1377 - val_mae: 0.2640\n",
            "Epoch 167/200\n",
            "32/32 [==============================] - 0s 3ms/step - loss: 0.0207 - mae: 0.0974 - val_loss: 0.1112 - val_mae: 0.2420\n",
            "Epoch 168/200\n",
            "32/32 [==============================] - 0s 3ms/step - loss: 0.0176 - mae: 0.0918 - val_loss: 0.1236 - val_mae: 0.2505\n",
            "Epoch 169/200\n",
            "32/32 [==============================] - 0s 3ms/step - loss: 0.0276 - mae: 0.1064 - val_loss: 0.1161 - val_mae: 0.2421\n",
            "Epoch 170/200\n",
            "32/32 [==============================] - 0s 3ms/step - loss: 0.0199 - mae: 0.0926 - val_loss: 0.1213 - val_mae: 0.2528\n",
            "Epoch 171/200\n",
            "32/32 [==============================] - 0s 3ms/step - loss: 0.0232 - mae: 0.0996 - val_loss: 0.1114 - val_mae: 0.2432\n",
            "Epoch 172/200\n",
            "32/32 [==============================] - 0s 3ms/step - loss: 0.0198 - mae: 0.0909 - val_loss: 0.1193 - val_mae: 0.2481\n",
            "Epoch 173/200\n",
            "32/32 [==============================] - 0s 3ms/step - loss: 0.0186 - mae: 0.0885 - val_loss: 0.1182 - val_mae: 0.2483\n",
            "Epoch 174/200\n",
            "32/32 [==============================] - 0s 3ms/step - loss: 0.0198 - mae: 0.0925 - val_loss: 0.1197 - val_mae: 0.2451\n",
            "Epoch 175/200\n",
            "32/32 [==============================] - 0s 3ms/step - loss: 0.0144 - mae: 0.0791 - val_loss: 0.1191 - val_mae: 0.2461\n",
            "Epoch 176/200\n",
            "32/32 [==============================] - 0s 3ms/step - loss: 0.0167 - mae: 0.0868 - val_loss: 0.1218 - val_mae: 0.2499\n",
            "Epoch 177/200\n",
            "32/32 [==============================] - 0s 3ms/step - loss: 0.0191 - mae: 0.0949 - val_loss: 0.1178 - val_mae: 0.2437\n",
            "Epoch 178/200\n",
            "32/32 [==============================] - 0s 3ms/step - loss: 0.0174 - mae: 0.0850 - val_loss: 0.1181 - val_mae: 0.2498\n",
            "Epoch 179/200\n",
            "32/32 [==============================] - 0s 3ms/step - loss: 0.0159 - mae: 0.0857 - val_loss: 0.1164 - val_mae: 0.2466\n",
            "Epoch 180/200\n",
            "32/32 [==============================] - 0s 3ms/step - loss: 0.0151 - mae: 0.0815 - val_loss: 0.1173 - val_mae: 0.2471\n",
            "Epoch 181/200\n",
            "32/32 [==============================] - 0s 3ms/step - loss: 0.0179 - mae: 0.0881 - val_loss: 0.1130 - val_mae: 0.2382\n",
            "Epoch 182/200\n",
            "32/32 [==============================] - 0s 3ms/step - loss: 0.0138 - mae: 0.0786 - val_loss: 0.1224 - val_mae: 0.2465\n",
            "Epoch 183/200\n",
            "32/32 [==============================] - 0s 4ms/step - loss: 0.0213 - mae: 0.0957 - val_loss: 0.1272 - val_mae: 0.2514\n",
            "Epoch 184/200\n",
            "32/32 [==============================] - 0s 3ms/step - loss: 0.0157 - mae: 0.0801 - val_loss: 0.1311 - val_mae: 0.2596\n",
            "Epoch 185/200\n",
            "32/32 [==============================] - 0s 3ms/step - loss: 0.0158 - mae: 0.0875 - val_loss: 0.1107 - val_mae: 0.2417\n",
            "Epoch 186/200\n",
            "32/32 [==============================] - 0s 3ms/step - loss: 0.0144 - mae: 0.0771 - val_loss: 0.1185 - val_mae: 0.2421\n",
            "Epoch 187/200\n",
            "32/32 [==============================] - 0s 3ms/step - loss: 0.0205 - mae: 0.0902 - val_loss: 0.1239 - val_mae: 0.2553\n",
            "Epoch 188/200\n",
            "32/32 [==============================] - 0s 3ms/step - loss: 0.0243 - mae: 0.0994 - val_loss: 0.1234 - val_mae: 0.2521\n",
            "Epoch 189/200\n",
            "32/32 [==============================] - 0s 3ms/step - loss: 0.0199 - mae: 0.0881 - val_loss: 0.1119 - val_mae: 0.2426\n",
            "Epoch 190/200\n",
            "32/32 [==============================] - 0s 3ms/step - loss: 0.0190 - mae: 0.0889 - val_loss: 0.1210 - val_mae: 0.2460\n",
            "Epoch 191/200\n",
            "32/32 [==============================] - 0s 3ms/step - loss: 0.0190 - mae: 0.0890 - val_loss: 0.1271 - val_mae: 0.2554\n",
            "Epoch 192/200\n",
            "32/32 [==============================] - 0s 3ms/step - loss: 0.0175 - mae: 0.0890 - val_loss: 0.1188 - val_mae: 0.2429\n",
            "Epoch 193/200\n",
            "32/32 [==============================] - 0s 3ms/step - loss: 0.0179 - mae: 0.0878 - val_loss: 0.1293 - val_mae: 0.2622\n",
            "Epoch 194/200\n",
            "32/32 [==============================] - 0s 3ms/step - loss: 0.0196 - mae: 0.0964 - val_loss: 0.1169 - val_mae: 0.2426\n",
            "Epoch 195/200\n",
            "32/32 [==============================] - 0s 3ms/step - loss: 0.0131 - mae: 0.0754 - val_loss: 0.1189 - val_mae: 0.2444\n",
            "Epoch 196/200\n",
            "32/32 [==============================] - 0s 3ms/step - loss: 0.0162 - mae: 0.0871 - val_loss: 0.1130 - val_mae: 0.2343\n",
            "Epoch 197/200\n",
            "32/32 [==============================] - 0s 3ms/step - loss: 0.0161 - mae: 0.0835 - val_loss: 0.1327 - val_mae: 0.2720\n",
            "Epoch 198/200\n",
            "32/32 [==============================] - 0s 3ms/step - loss: 0.0141 - mae: 0.0819 - val_loss: 0.1226 - val_mae: 0.2551\n",
            "Epoch 199/200\n",
            "32/32 [==============================] - 0s 3ms/step - loss: 0.0170 - mae: 0.0848 - val_loss: 0.1221 - val_mae: 0.2466\n",
            "Epoch 200/200\n",
            "32/32 [==============================] - 0s 3ms/step - loss: 0.0160 - mae: 0.0875 - val_loss: 0.1170 - val_mae: 0.2379\n"
          ],
          "name": "stdout"
        }
      ]
    },
    {
      "cell_type": "code",
      "metadata": {
        "colab": {
          "base_uri": "https://localhost:8080/"
        },
        "id": "Wk4N9QWGfo6O",
        "outputId": "015a185f-e8d7-4665-ed64-c0ee78aded19"
      },
      "source": [
        "history.history.keys()"
      ],
      "execution_count": 24,
      "outputs": [
        {
          "output_type": "execute_result",
          "data": {
            "text/plain": [
              "dict_keys(['loss', 'mae', 'val_loss', 'val_mae'])"
            ]
          },
          "metadata": {
            "tags": []
          },
          "execution_count": 24
        }
      ]
    },
    {
      "cell_type": "code",
      "metadata": {
        "colab": {
          "base_uri": "https://localhost:8080/"
        },
        "id": "EkNJH12Zf2n0",
        "outputId": "67164a8c-99a1-48b0-83f9-9c5a742e4ba2"
      },
      "source": [
        "loss,mae=network.evaluate(X_test,Y_test)"
      ],
      "execution_count": 25,
      "outputs": [
        {
          "output_type": "stream",
          "text": [
            "10/10 [==============================] - 0s 2ms/step - loss: 0.1206 - mae: 0.2258\n"
          ],
          "name": "stdout"
        }
      ]
    },
    {
      "cell_type": "code",
      "metadata": {
        "id": "ZS-d1TDQga67"
      },
      "source": [
        "val_mae = history.history['val_mae']\n",
        "val_loss = history.history['val_loss']"
      ],
      "execution_count": 26,
      "outputs": []
    },
    {
      "cell_type": "code",
      "metadata": {
        "colab": {
          "base_uri": "https://localhost:8080/",
          "height": 294
        },
        "id": "o-e2DgyEgh-H",
        "outputId": "4723b205-212d-463f-d5fd-4d5c9af6c023"
      },
      "source": [
        "history_dict = history.history\n",
        "loss_values = history_dict['loss']\n",
        "val_loss_values = history_dict['val_loss']\n",
        "epochs = range(200)\n",
        "plt.plot(epochs, loss_values, 'bo', label='Training loss')\n",
        "plt.plot(epochs, val_loss_values, 'b', label='Validation loss')\n",
        "plt.title('Training and validation loss')\n",
        "plt.xlabel('Epochs')\n",
        "plt.ylabel('Loss')\n",
        "plt.legend()\n",
        "plt.show()"
      ],
      "execution_count": 27,
      "outputs": [
        {
          "output_type": "display_data",
          "data": {
            "image/png": "[encoded data removed]",
            "text/plain": [
              "<Figure size 432x288 with 1 Axes>"
            ]
          },
          "metadata": {
            "tags": [],
            "needs_background": "light"
          }
        }
      ]
    },
    {
      "cell_type": "code",
      "metadata": {
        "colab": {
          "base_uri": "https://localhost:8080/",
          "height": 294
        },
        "id": "beg5d_fvgrpS",
        "outputId": "631ff6e8-0734-489f-b9f2-b7ff08109b12"
      },
      "source": [
        "\n",
        "acc_values = history_dict['mae']\n",
        "val_acc_values = history_dict['val_mae']\n",
        "plt.plot(epochs, acc_values, 'bo', label='Training mae')\n",
        "plt.plot(epochs, val_acc_values, 'b', label='Validation mae')\n",
        "plt.title('Training and validation accuracy')\n",
        "plt.xlabel('Epochs')\n",
        "plt.ylabel('mae')\n",
        "plt.legend()\n",
        "plt.show()"
      ],
      "execution_count": 28,
      "outputs": [
        {
          "output_type": "display_data",
          "data": {
            "image/png": "[encoded data removed]",
            "text/plain": [
              "<Figure size 432x288 with 1 Axes>"
            ]
          },
          "metadata": {
            "tags": [],
            "needs_background": "light"
          }
        }
      ]
    },
    {
      "cell_type": "code",
      "metadata": {
        "id": "Q_PcAn_AhP4p"
      },
      "source": [
        "# prediction"
      ],
      "execution_count": null,
      "outputs": []
    },
    {
      "cell_type": "code",
      "metadata": {
        "id": "Vst_aBh2g17_"
      },
      "source": [
        "y_pred = network.predict(X_test)"
      ],
      "execution_count": 29,
      "outputs": []
    },
    {
      "cell_type": "code",
      "metadata": {
        "id": "TYqQBLDPhLuf"
      },
      "source": [
        "# denormalization"
      ],
      "execution_count": null,
      "outputs": []
    },
    {
      "cell_type": "code",
      "metadata": {
        "id": "PDzXPhXRhEoK"
      },
      "source": [
        "def denorm(x):\n",
        "    return (x * Y_std) + Y_mean\n",
        "    "
      ],
      "execution_count": 30,
      "outputs": []
    },
    {
      "cell_type": "code",
      "metadata": {
        "id": "wmftWyFJhJrM"
      },
      "source": [
        "y_pred = denorm(y_pred)"
      ],
      "execution_count": 31,
      "outputs": []
    },
    {
      "cell_type": "code",
      "metadata": {
        "id": "50tqWnAphY0c"
      },
      "source": [
        "y_true = denorm(Y_test)"
      ],
      "execution_count": 32,
      "outputs": []
    },
    {
      "cell_type": "code",
      "metadata": {
        "id": "g70hgALchb6h"
      },
      "source": [
        "y_pred = y_pred.flatten()"
      ],
      "execution_count": 33,
      "outputs": []
    },
    {
      "cell_type": "code",
      "metadata": {
        "colab": {
          "base_uri": "https://localhost:8080/"
        },
        "id": "vHUchPE9hetD",
        "outputId": "c14a0876-ac8e-4663-a0a1-db018bb23def"
      },
      "source": [
        "y_pred.shape"
      ],
      "execution_count": 34,
      "outputs": [
        {
          "output_type": "execute_result",
          "data": {
            "text/plain": [
              "(309,)"
            ]
          },
          "metadata": {
            "tags": []
          },
          "execution_count": 34
        }
      ]
    },
    {
      "cell_type": "code",
      "metadata": {
        "colab": {
          "base_uri": "https://localhost:8080/"
        },
        "id": "mjg5UW1RhhwZ",
        "outputId": "cfdbc933-c65c-4513-c9ea-47c5995d5154"
      },
      "source": [
        "y_true.shape"
      ],
      "execution_count": 35,
      "outputs": [
        {
          "output_type": "execute_result",
          "data": {
            "text/plain": [
              "(309,)"
            ]
          },
          "metadata": {
            "tags": []
          },
          "execution_count": 35
        }
      ]
    },
    {
      "cell_type": "code",
      "metadata": {
        "colab": {
          "base_uri": "https://localhost:8080/",
          "height": 286
        },
        "id": "A3yIshcDhlFV",
        "outputId": "1eff187e-187c-49bb-926a-50441f317d33"
      },
      "source": [
        "coef = np.polyfit(y_true,y_pred,1)\n",
        "poly1d_fn = np.poly1d(coef) \n",
        "# poly1d_fn is now a function which takes in x and returns an estimate for y\n",
        "plt.plot(y_true,y_pred, 'yo', y_true, poly1d_fn(y_true), '--k')\n",
        "plt.xlim(0, 100)\n",
        "plt.ylim(0, 100)"
      ],
      "execution_count": 36,
      "outputs": [
        {
          "output_type": "execute_result",
          "data": {
            "text/plain": [
              "(0.0, 100.0)"
            ]
          },
          "metadata": {
            "tags": []
          },
          "execution_count": 36
        },
        {
          "output_type": "display_data",
          "data": {
            "image/png": "[encoded data removed]",
            "text/plain": [
              "<Figure size 432x288 with 1 Axes>"
            ]
          },
          "metadata": {
            "tags": [],
            "needs_background": "light"
          }
        }
      ]
    },
    {
      "cell_type": "code",
      "metadata": {
        "id": "qX87UMuohrNV"
      },
      "source": [
        ""
      ],
      "execution_count": null,
      "outputs": []
    }
  ]
}